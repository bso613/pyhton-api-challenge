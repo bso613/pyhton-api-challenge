{
 "cells": [
  {
   "cell_type": "markdown",
   "metadata": {},
   "source": [
    "# WeatherPy\n",
    "----\n",
    "\n",
    "#### Note\n",
    "* Instructions have been included for each segment. You do not have to follow them exactly, but they are included to help you think through the steps."
   ]
  },
  {
   "cell_type": "code",
   "execution_count": 30,
   "metadata": {
    "scrolled": true
   },
   "outputs": [],
   "source": [
    "# Dependencies and Setup\n",
    "import matplotlib.pyplot as plt\n",
    "import pandas as pd\n",
    "import numpy as np\n",
    "import requests\n",
    "import time\n",
    "from scipy.stats import linregress\n",
    "\n",
    "# Import API key\n",
    "from api_keys import weather_api_key\n",
    "temp_units = \"imperial\"\n",
    "# Incorporated citipy to determine city based on latitude and longitude\n",
    "from citipy import citipy\n",
    "\n",
    "# Output File (CSV)\n",
    "output_data_file = \"../output_data/cities.csv\"\n",
    "\n",
    "# Range of latitudes and longitudes\n",
    "lat_range = (-90, 90)\n",
    "lng_range = (-180, 180)\n",
    "\n",
    "query_url = f\"http://api.openweathermap.org/data/2.5/weather?appid={weather_api_key}&units={temp_units}&q=\"\n",
    "\n",
    "# define count of pass throughs\n",
    "count_one = 0\n",
    "set_one = 1"
   ]
  },
  {
   "cell_type": "markdown",
   "metadata": {},
   "source": [
    "## Generate Cities List"
   ]
  },
  {
   "cell_type": "code",
   "execution_count": 31,
   "metadata": {},
   "outputs": [
    {
     "data": {
      "text/plain": [
       "623"
      ]
     },
     "execution_count": 31,
     "metadata": {},
     "output_type": "execute_result"
    }
   ],
   "source": [
    "# List for holding lat_lngs and cities\n",
    "lat_lngs = []\n",
    "cities = []\n",
    "\n",
    "# Create a set of random lat and lng combinations\n",
    "lats = np.random.uniform(lat_range[0], lat_range[1], size=1500)\n",
    "lngs = np.random.uniform(lng_range[0], lng_range[1], size=1500)\n",
    "lat_lngs = zip(lats, lngs)\n",
    "\n",
    "# Identify nearest city for each lat, lng combination\n",
    "for lat_lng in lat_lngs:\n",
    "    city = citipy.nearest_city(lat_lng[0], lat_lng[1]).city_name\n",
    "    \n",
    "    # If the city is unique, then add it to a our cities list\n",
    "    if city not in cities:\n",
    "        cities.append(city)\n",
    "\n",
    "# Print the city count to confirm sufficient count\n",
    "len(cities)"
   ]
  },
  {
   "cell_type": "markdown",
   "metadata": {},
   "source": [
    "### Perform API Calls\n",
    "* Perform a weather check on each city using a series of successive API calls.\n",
    "* Include a print log of each city as it'sbeing processed (with the city number and city name).\n"
   ]
  },
  {
   "cell_type": "code",
   "execution_count": 35,
   "metadata": {
    "scrolled": true
   },
   "outputs": [
    {
     "name": "stdout",
     "output_type": "stream",
     "text": [
      "Processing Record 1 of Set 1 | ponta do sol\n",
      "City not found. Skipping...\n",
      "Processing Record 2 of Set 1 | namibe\n",
      "Processing Record 3 of Set 1 | biak\n",
      "Processing Record 4 of Set 1 | ushuaia\n",
      "City not found. Skipping...\n",
      "Processing Record 5 of Set 1 | rikitea\n",
      "Processing Record 6 of Set 1 | punta arenas\n",
      "Processing Record 7 of Set 1 | charters towers\n",
      "Processing Record 8 of Set 1 | albany\n",
      "Processing Record 9 of Set 1 | sabancuy\n",
      "Processing Record 10 of Set 1 | tiksi\n",
      "Processing Record 11 of Set 1 | vaini\n",
      "Processing Record 12 of Set 1 | nikolskoye\n",
      "Processing Record 13 of Set 1 | bluff\n",
      "Processing Record 14 of Set 1 | bredasdorp\n",
      "Processing Record 15 of Set 1 | atuona\n",
      "Processing Record 16 of Set 1 | cape town\n",
      "Processing Record 17 of Set 1 | yumen\n",
      "Processing Record 18 of Set 1 | jamestown\n",
      "Processing Record 19 of Set 1 | port blair\n",
      "Processing Record 20 of Set 1 | carnarvon\n",
      "City not found. Skipping...\n",
      "Processing Record 21 of Set 1 | fukuma\n",
      "Processing Record 22 of Set 1 | bondo\n",
      "Processing Record 23 of Set 1 | chenzhou\n",
      "Processing Record 24 of Set 1 | carahue\n",
      "Processing Record 25 of Set 1 | port alfred\n",
      "Processing Record 26 of Set 1 | hilo\n",
      "Processing Record 27 of Set 1 | upernavik\n",
      "Processing Record 28 of Set 1 | hermanus\n",
      "Processing Record 29 of Set 1 | lagoa\n",
      "Processing Record 30 of Set 1 | puerto ayora\n",
      "Processing Record 31 of Set 1 | huilong\n",
      "City not found. Skipping...\n",
      "Processing Record 32 of Set 1 | atar\n",
      "Processing Record 33 of Set 1 | aswan\n",
      "Processing Record 34 of Set 1 | havoysund\n",
      "Processing Record 35 of Set 1 | longyearbyen\n",
      "Processing Record 36 of Set 1 | mataura\n",
      "Processing Record 37 of Set 1 | coquimbo\n",
      "Processing Record 38 of Set 1 | iqaluit\n",
      "Processing Record 39 of Set 1 | cayenne\n",
      "City not found. Skipping...\n",
      "Processing Record 40 of Set 1 | port elizabeth\n",
      "Processing Record 41 of Set 1 | isangel\n",
      "Processing Record 42 of Set 1 | constantine\n",
      "City not found. Skipping...\n",
      "Processing Record 43 of Set 1 | thompson\n",
      "Processing Record 44 of Set 1 | lata\n",
      "Processing Record 45 of Set 1 | mayo\n",
      "Processing Record 46 of Set 1 | tuktoyaktuk\n",
      "Processing Record 47 of Set 1 | anadyr\n",
      "Processing Record 48 of Set 1 | tasiilaq\n",
      "Processing Record 49 of Set 1 | tura\n",
      "City not found. Skipping...\n",
      "Processing Record 1 of Set 2 | airai\n",
      "Processing Record 2 of Set 2 | launceston\n",
      "Processing Record 3 of Set 2 | ebolowa\n",
      "Processing Record 4 of Set 2 | georgetown\n",
      "Processing Record 5 of Set 2 | eyl\n",
      "Processing Record 6 of Set 2 | belyy yar\n",
      "Processing Record 7 of Set 2 | lavrentiya\n",
      "Processing Record 8 of Set 2 | bayog\n",
      "Processing Record 9 of Set 2 | oranjestad\n",
      "Processing Record 10 of Set 2 | busselton\n",
      "Processing Record 11 of Set 2 | touros\n",
      "Processing Record 12 of Set 2 | kabinda\n",
      "City not found. Skipping...\n",
      "Processing Record 13 of Set 2 | alofi\n",
      "Processing Record 14 of Set 2 | provideniya\n",
      "Processing Record 15 of Set 2 | esperance\n",
      "Processing Record 16 of Set 2 | saint-philippe\n",
      "Processing Record 17 of Set 2 | qaanaaq\n",
      "Processing Record 18 of Set 2 | kasongo-lunda\n",
      "Processing Record 19 of Set 2 | torbay\n",
      "Processing Record 20 of Set 2 | harper\n",
      "Processing Record 21 of Set 2 | muros\n",
      "City not found. Skipping...\n",
      "Processing Record 22 of Set 2 | miri\n",
      "Processing Record 23 of Set 2 | fortuna\n",
      "City not found. Skipping...\n",
      "Processing Record 24 of Set 2 | yeppoon\n",
      "City not found. Skipping...\n",
      "Processing Record 25 of Set 2 | ust-maya\n",
      "Processing Record 26 of Set 2 | buraydah\n",
      "Processing Record 27 of Set 2 | raduzhnyy\n",
      "Processing Record 28 of Set 2 | arraial do cabo\n",
      "Processing Record 29 of Set 2 | khatanga\n",
      "City not found. Skipping...\n",
      "Processing Record 30 of Set 2 | jiuquan\n",
      "Processing Record 31 of Set 2 | fairfield\n",
      "Processing Record 32 of Set 2 | majene\n",
      "Processing Record 33 of Set 2 | nyurba\n",
      "Processing Record 34 of Set 2 | bonavista\n",
      "Processing Record 35 of Set 2 | rundu\n",
      "Processing Record 36 of Set 2 | matara\n",
      "Processing Record 37 of Set 2 | upata\n",
      "Processing Record 38 of Set 2 | dryden\n",
      "Processing Record 39 of Set 2 | castro\n",
      "Processing Record 40 of Set 2 | fairbanks\n",
      "Processing Record 41 of Set 2 | bambous virieux\n",
      "Processing Record 42 of Set 2 | washington\n",
      "Processing Record 43 of Set 2 | makurdi\n",
      "Processing Record 44 of Set 2 | havelock\n",
      "Processing Record 45 of Set 2 | panjab\n",
      "Processing Record 46 of Set 2 | avarua\n",
      "Processing Record 47 of Set 2 | ardahan\n",
      "Processing Record 48 of Set 2 | kapaa\n",
      "Processing Record 49 of Set 2 | bengkulu\n",
      "Processing Record 1 of Set 3 | rosarito\n",
      "Processing Record 2 of Set 3 | kodiak\n",
      "Processing Record 3 of Set 3 | ixtapa\n",
      "Processing Record 4 of Set 3 | bethel\n",
      "Processing Record 5 of Set 3 | chalons-en-champagne\n",
      "Processing Record 6 of Set 3 | cacoal\n",
      "Processing Record 7 of Set 3 | mar del plata\n",
      "Processing Record 8 of Set 3 | marystown\n",
      "Processing Record 9 of Set 3 | hobart\n",
      "Processing Record 10 of Set 3 | port hardy\n",
      "City not found. Skipping...\n",
      "Processing Record 11 of Set 3 | grindavik\n",
      "Processing Record 12 of Set 3 | ternate\n",
      "Processing Record 13 of Set 3 | eureka\n",
      "City not found. Skipping...\n",
      "Processing Record 14 of Set 3 | belaya gora\n",
      "City not found. Skipping...\n",
      "Processing Record 15 of Set 3 | cidreira\n",
      "Processing Record 16 of Set 3 | souillac\n",
      "Processing Record 17 of Set 3 | lompoc\n",
      "Processing Record 18 of Set 3 | barrow\n",
      "Processing Record 19 of Set 3 | belluno\n",
      "Processing Record 20 of Set 3 | canico\n",
      "Processing Record 21 of Set 3 | prescott\n",
      "Processing Record 22 of Set 3 | cabo san lucas\n",
      "Processing Record 23 of Set 3 | taoudenni\n",
      "Processing Record 24 of Set 3 | cabinda\n",
      "Processing Record 25 of Set 3 | namtsy\n",
      "Processing Record 26 of Set 3 | andenes\n",
      "Processing Record 27 of Set 3 | verkhnyaya maksakovka\n",
      "Processing Record 28 of Set 3 | ndele\n",
      "City not found. Skipping...\n",
      "City not found. Skipping...\n",
      "Processing Record 29 of Set 3 | portland\n",
      "Processing Record 30 of Set 3 | ponta delgada\n",
      "Processing Record 31 of Set 3 | ponoka\n",
      "Processing Record 32 of Set 3 | buala\n",
      "Processing Record 33 of Set 3 | north bend\n",
      "Processing Record 34 of Set 3 | horki\n",
      "Processing Record 35 of Set 3 | sal rei\n",
      "Processing Record 36 of Set 3 | avera\n",
      "Processing Record 37 of Set 3 | haines junction\n",
      "Processing Record 38 of Set 3 | komsomolskiy\n",
      "City not found. Skipping...\n",
      "City not found. Skipping...\n",
      "Processing Record 39 of Set 3 | dunedin\n",
      "Processing Record 40 of Set 3 | byron bay\n",
      "Processing Record 41 of Set 3 | ginda\n",
      "Processing Record 42 of Set 3 | wanaka\n",
      "Processing Record 43 of Set 3 | pisco\n",
      "City not found. Skipping...\n",
      "Processing Record 44 of Set 3 | petropavlovsk-kamchatskiy\n",
      "Processing Record 45 of Set 3 | mahebourg\n",
      "Processing Record 46 of Set 3 | erdenet\n",
      "Processing Record 47 of Set 3 | tacuarembo\n",
      "Processing Record 48 of Set 3 | uvalde\n",
      "Processing Record 49 of Set 3 | jyvaskyla\n",
      "Processing Record 1 of Set 4 | suluq\n",
      "Processing Record 2 of Set 4 | butaritari\n",
      "Processing Record 3 of Set 4 | qena\n",
      "City not found. Skipping...\n",
      "Processing Record 4 of Set 4 | warwick\n",
      "Processing Record 5 of Set 4 | linfen\n",
      "Processing Record 6 of Set 4 | at-bashi\n",
      "Processing Record 7 of Set 4 | ornskoldsvik\n",
      "Processing Record 8 of Set 4 | marsh harbour\n",
      "Processing Record 9 of Set 4 | carbonia\n",
      "Processing Record 10 of Set 4 | port macquarie\n",
      "Processing Record 11 of Set 4 | keti bandar\n",
      "Processing Record 12 of Set 4 | pacific grove\n",
      "Processing Record 13 of Set 4 | laiyang\n",
      "Processing Record 14 of Set 4 | norman wells\n",
      "Processing Record 15 of Set 4 | pimentel\n",
      "Processing Record 16 of Set 4 | srednekolymsk\n",
      "Processing Record 17 of Set 4 | mbuji-mayi\n",
      "Processing Record 18 of Set 4 | mankato\n",
      "Processing Record 19 of Set 4 | cloquet\n",
      "City not found. Skipping...\n",
      "Processing Record 20 of Set 4 | geraldton\n",
      "Processing Record 21 of Set 4 | nortelandia\n",
      "Processing Record 22 of Set 4 | mount gambier\n",
      "Processing Record 23 of Set 4 | craig\n",
      "Processing Record 24 of Set 4 | beaverlodge\n",
      "Processing Record 25 of Set 4 | cherskiy\n",
      "Processing Record 26 of Set 4 | yellowknife\n",
      "Processing Record 27 of Set 4 | dingle\n",
      "Processing Record 28 of Set 4 | husavik\n",
      "Processing Record 29 of Set 4 | sabha\n",
      "Processing Record 30 of Set 4 | hamilton\n",
      "Processing Record 31 of Set 4 | arman\n",
      "Processing Record 32 of Set 4 | prieska\n",
      "Processing Record 33 of Set 4 | atbasar\n",
      "Processing Record 34 of Set 4 | east london\n",
      "City not found. Skipping...\n",
      "Processing Record 35 of Set 4 | onega\n",
      "Processing Record 36 of Set 4 | aberystwyth\n",
      "Processing Record 37 of Set 4 | sao luis de montes belos\n"
     ]
    },
    {
     "name": "stdout",
     "output_type": "stream",
     "text": [
      "Processing Record 38 of Set 4 | ishioka\n",
      "Processing Record 39 of Set 4 | palimbang\n",
      "Processing Record 40 of Set 4 | tautira\n",
      "Processing Record 41 of Set 4 | poronaysk\n",
      "Processing Record 42 of Set 4 | katangli\n",
      "City not found. Skipping...\n",
      "Processing Record 43 of Set 4 | axim\n",
      "Processing Record 44 of Set 4 | quelimane\n",
      "Processing Record 45 of Set 4 | grand river south east\n",
      "Processing Record 46 of Set 4 | tuatapere\n",
      "Processing Record 47 of Set 4 | santa cruz\n",
      "Processing Record 48 of Set 4 | bialogard\n",
      "Processing Record 49 of Set 4 | bukachacha\n",
      "Processing Record 1 of Set 5 | viedma\n",
      "Processing Record 2 of Set 5 | chattanooga\n",
      "Processing Record 3 of Set 5 | caravelas\n",
      "Processing Record 4 of Set 5 | tiarei\n",
      "City not found. Skipping...\n",
      "Processing Record 5 of Set 5 | tsabong\n",
      "Processing Record 6 of Set 5 | bontang\n",
      "Processing Record 7 of Set 5 | hutchinson\n",
      "Processing Record 8 of Set 5 | nuuk\n",
      "Processing Record 9 of Set 5 | salinopolis\n",
      "Processing Record 10 of Set 5 | khovu-aksy\n",
      "Processing Record 11 of Set 5 | new norfolk\n",
      "Processing Record 12 of Set 5 | constitucion\n",
      "Processing Record 13 of Set 5 | zhangye\n",
      "Processing Record 14 of Set 5 | hasaki\n",
      "Processing Record 15 of Set 5 | omboue\n",
      "Processing Record 16 of Set 5 | naze\n",
      "Processing Record 17 of Set 5 | pemangkat\n",
      "Processing Record 18 of Set 5 | kenai\n",
      "Processing Record 19 of Set 5 | odweyne\n",
      "Processing Record 20 of Set 5 | faanui\n",
      "Processing Record 21 of Set 5 | thinadhoo\n",
      "Processing Record 22 of Set 5 | bayan\n",
      "Processing Record 23 of Set 5 | sitka\n",
      "Processing Record 24 of Set 5 | tibiri\n",
      "Processing Record 25 of Set 5 | maceio\n",
      "Processing Record 26 of Set 5 | pevek\n",
      "Processing Record 27 of Set 5 | verkh-usugli\n",
      "Processing Record 28 of Set 5 | luwuk\n",
      "Processing Record 29 of Set 5 | hambantota\n",
      "Processing Record 30 of Set 5 | vila\n",
      "Processing Record 31 of Set 5 | uspenka\n",
      "Processing Record 32 of Set 5 | sokoto\n",
      "City not found. Skipping...\n",
      "Processing Record 33 of Set 5 | taunggyi\n",
      "Processing Record 34 of Set 5 | bardiyah\n",
      "City not found. Skipping...\n",
      "City not found. Skipping...\n",
      "Processing Record 35 of Set 5 | svetlyy\n",
      "Processing Record 36 of Set 5 | monte cristi\n",
      "Processing Record 37 of Set 5 | santiago del estero\n",
      "Processing Record 38 of Set 5 | chuy\n",
      "Processing Record 39 of Set 5 | filingue\n",
      "City not found. Skipping...\n",
      "Processing Record 40 of Set 5 | burnie\n",
      "Processing Record 41 of Set 5 | roebourne\n",
      "Processing Record 42 of Set 5 | raipur\n",
      "Processing Record 43 of Set 5 | luderitz\n",
      "Processing Record 44 of Set 5 | bougouni\n",
      "City not found. Skipping...\n",
      "Processing Record 45 of Set 5 | orhangazi\n",
      "Processing Record 46 of Set 5 | mandurah\n",
      "Processing Record 47 of Set 5 | ribeira grande\n",
      "Processing Record 48 of Set 5 | ilulissat\n",
      "Processing Record 49 of Set 5 | kruisfontein\n",
      "Processing Record 1 of Set 6 | clyde river\n",
      "Processing Record 2 of Set 6 | ostrovnoy\n",
      "Processing Record 3 of Set 6 | boyuibe\n",
      "Processing Record 4 of Set 6 | ponca city\n",
      "Processing Record 5 of Set 6 | itarema\n",
      "Processing Record 6 of Set 6 | sorland\n",
      "Processing Record 7 of Set 6 | syamzha\n",
      "Processing Record 8 of Set 6 | tiznit\n",
      "City not found. Skipping...\n",
      "City not found. Skipping...\n",
      "Processing Record 9 of Set 6 | kieta\n",
      "Processing Record 10 of Set 6 | lebu\n",
      "Processing Record 11 of Set 6 | rio grande\n",
      "Processing Record 12 of Set 6 | tutoia\n",
      "Processing Record 13 of Set 6 | gizo\n",
      "Processing Record 14 of Set 6 | fort-shevchenko\n",
      "Processing Record 15 of Set 6 | flagstaff\n",
      "Processing Record 16 of Set 6 | villaviciosa\n",
      "Processing Record 17 of Set 6 | mount pleasant\n",
      "Processing Record 18 of Set 6 | ruangwa\n",
      "Processing Record 19 of Set 6 | irbeyskoye\n",
      "Processing Record 20 of Set 6 | toora-khem\n",
      "Processing Record 21 of Set 6 | luanda\n",
      "City not found. Skipping...\n",
      "Processing Record 22 of Set 6 | hosakote\n",
      "Processing Record 23 of Set 6 | sayat\n",
      "Processing Record 24 of Set 6 | cumpas\n",
      "Processing Record 25 of Set 6 | khandyga\n",
      "Processing Record 26 of Set 6 | chokurdakh\n",
      "Processing Record 27 of Set 6 | saskylakh\n",
      "Processing Record 28 of Set 6 | yichang\n",
      "Processing Record 29 of Set 6 | opuwo\n",
      "Processing Record 30 of Set 6 | vanavara\n",
      "Processing Record 31 of Set 6 | havre-saint-pierre\n",
      "City not found. Skipping...\n",
      "Processing Record 32 of Set 6 | college\n",
      "City not found. Skipping...\n",
      "Processing Record 33 of Set 6 | puerto escondido\n",
      "Processing Record 34 of Set 6 | chihuahua\n",
      "City not found. Skipping...\n",
      "Processing Record 35 of Set 6 | hualmay\n",
      "City not found. Skipping...\n",
      "Processing Record 36 of Set 6 | victoria\n",
      "Processing Record 37 of Set 6 | kargat\n",
      "Processing Record 38 of Set 6 | hobyo\n",
      "Processing Record 39 of Set 6 | sao raimundo das mangabeiras\n",
      "Processing Record 40 of Set 6 | broome\n",
      "Processing Record 41 of Set 6 | arona\n",
      "Processing Record 42 of Set 6 | port pirie\n",
      "Processing Record 43 of Set 6 | bandarbeyla\n",
      "Processing Record 44 of Set 6 | helong\n",
      "Processing Record 45 of Set 6 | kefamenanu\n",
      "Processing Record 46 of Set 6 | severo-kurilsk\n",
      "Processing Record 47 of Set 6 | bathsheba\n",
      "Processing Record 48 of Set 6 | fort nelson\n",
      "Processing Record 49 of Set 6 | zuwarah\n",
      "Processing Record 1 of Set 7 | dikson\n",
      "Processing Record 2 of Set 7 | mikuni\n",
      "Processing Record 3 of Set 7 | kawalu\n",
      "Processing Record 4 of Set 7 | lyndon\n",
      "Processing Record 5 of Set 7 | nanortalik\n",
      "Processing Record 6 of Set 7 | key west\n",
      "Processing Record 7 of Set 7 | luancheng\n",
      "Processing Record 8 of Set 7 | tierralta\n",
      "Processing Record 9 of Set 7 | ostersund\n",
      "Processing Record 10 of Set 7 | narsaq\n",
      "Processing Record 11 of Set 7 | labrea\n",
      "City not found. Skipping...\n",
      "City not found. Skipping...\n",
      "Processing Record 12 of Set 7 | summerside\n",
      "Processing Record 13 of Set 7 | chifeng\n",
      "Processing Record 14 of Set 7 | butembo\n",
      "Processing Record 15 of Set 7 | port augusta\n",
      "Processing Record 16 of Set 7 | zhigansk\n",
      "Processing Record 17 of Set 7 | kuusamo\n",
      "Processing Record 18 of Set 7 | san cristobal\n",
      "Processing Record 19 of Set 7 | jalu\n",
      "Processing Record 20 of Set 7 | katsuura\n",
      "Processing Record 21 of Set 7 | inirida\n",
      "Processing Record 22 of Set 7 | kaitangata\n",
      "Processing Record 23 of Set 7 | koindu\n",
      "Processing Record 24 of Set 7 | neuquen\n",
      "Processing Record 25 of Set 7 | oistins\n",
      "City not found. Skipping...\n",
      "Processing Record 26 of Set 7 | olafsvik\n",
      "Processing Record 27 of Set 7 | guerrero negro\n",
      "Processing Record 28 of Set 7 | morro bay\n",
      "Processing Record 29 of Set 7 | acapulco\n",
      "Processing Record 30 of Set 7 | jacareacanga\n",
      "Processing Record 31 of Set 7 | hithadhoo\n",
      "Processing Record 32 of Set 7 | razole\n",
      "Processing Record 33 of Set 7 | cristalina\n",
      "Processing Record 34 of Set 7 | rawson\n",
      "Processing Record 35 of Set 7 | san carlos de bariloche\n",
      "Processing Record 36 of Set 7 | ayan\n",
      "Processing Record 37 of Set 7 | kerema\n",
      "Processing Record 38 of Set 7 | marion\n",
      "Processing Record 39 of Set 7 | shirvan\n",
      "Processing Record 40 of Set 7 | dabakala\n",
      "Processing Record 41 of Set 7 | uarini\n",
      "Processing Record 42 of Set 7 | obera\n",
      "Processing Record 43 of Set 7 | zemio\n",
      "Processing Record 44 of Set 7 | lanxi\n",
      "Processing Record 45 of Set 7 | khandbari\n",
      "Processing Record 46 of Set 7 | coahuayana\n",
      "Processing Record 47 of Set 7 | giaveno\n",
      "Processing Record 48 of Set 7 | kaspiysk\n",
      "Processing Record 49 of Set 7 | talnakh\n",
      "Processing Record 1 of Set 8 | yulara\n",
      "City not found. Skipping...\n",
      "Processing Record 2 of Set 8 | lasa\n",
      "Processing Record 3 of Set 8 | bomet\n",
      "Processing Record 4 of Set 8 | ambon\n",
      "Processing Record 5 of Set 8 | gravelbourg\n",
      "Processing Record 6 of Set 8 | sao filipe\n",
      "Processing Record 7 of Set 8 | urengoy\n",
      "Processing Record 8 of Set 8 | morondava\n",
      "Processing Record 9 of Set 8 | ishigaki\n",
      "Processing Record 10 of Set 8 | alice springs\n",
      "Processing Record 11 of Set 8 | san patricio\n",
      "Processing Record 12 of Set 8 | lubango\n",
      "Processing Record 13 of Set 8 | shimoda\n",
      "Processing Record 14 of Set 8 | bilibino\n",
      "Processing Record 15 of Set 8 | santa maria\n",
      "Processing Record 16 of Set 8 | hailar\n",
      "Processing Record 17 of Set 8 | nara\n",
      "Processing Record 18 of Set 8 | hirara\n",
      "Processing Record 19 of Set 8 | baykit\n",
      "City not found. Skipping...\n",
      "Processing Record 20 of Set 8 | srivardhan\n",
      "City not found. Skipping...\n",
      "Processing Record 21 of Set 8 | saint-georges\n",
      "Processing Record 22 of Set 8 | esso\n",
      "Processing Record 23 of Set 8 | chapais\n",
      "Processing Record 24 of Set 8 | porto novo\n",
      "Processing Record 25 of Set 8 | zivinice\n",
      "Processing Record 26 of Set 8 | araouane\n",
      "City not found. Skipping...\n",
      "Processing Record 27 of Set 8 | santa lucia\n"
     ]
    },
    {
     "name": "stdout",
     "output_type": "stream",
     "text": [
      "Processing Record 28 of Set 8 | pimenta bueno\n",
      "Processing Record 29 of Set 8 | nome\n",
      "Processing Record 30 of Set 8 | llaillay\n",
      "Processing Record 31 of Set 8 | gamba\n",
      "Processing Record 32 of Set 8 | imbituba\n",
      "Processing Record 33 of Set 8 | moose factory\n",
      "City not found. Skipping...\n",
      "Processing Record 34 of Set 8 | hay river\n",
      "Processing Record 35 of Set 8 | lorengau\n",
      "Processing Record 36 of Set 8 | dongli\n",
      "Processing Record 37 of Set 8 | aqtobe\n",
      "City not found. Skipping...\n",
      "Processing Record 38 of Set 8 | okhotsk\n",
      "Processing Record 39 of Set 8 | beringovskiy\n",
      "Processing Record 40 of Set 8 | bojnurd\n",
      "Processing Record 41 of Set 8 | oranjemund\n",
      "Processing Record 42 of Set 8 | vostok\n",
      "Processing Record 43 of Set 8 | vao\n",
      "Processing Record 44 of Set 8 | fort saint james\n",
      "Processing Record 45 of Set 8 | port-cartier\n",
      "Processing Record 46 of Set 8 | brewster\n",
      "Processing Record 47 of Set 8 | mujiayingzi\n",
      "Processing Record 48 of Set 8 | vardo\n",
      "City not found. Skipping...\n",
      "Processing Record 49 of Set 8 | labuhan\n",
      "Processing Record 1 of Set 9 | ancud\n",
      "Processing Record 2 of Set 9 | grand baie\n",
      "Processing Record 3 of Set 9 | paulo afonso\n",
      "Processing Record 4 of Set 9 | chibombo\n",
      "Processing Record 5 of Set 9 | shenkursk\n",
      "Processing Record 6 of Set 9 | jhargram\n",
      "Processing Record 7 of Set 9 | vanimo\n",
      "Processing Record 8 of Set 9 | bekhtery\n",
      "Processing Record 9 of Set 9 | praia da vitoria\n",
      "Processing Record 10 of Set 9 | leningradskiy\n",
      "Processing Record 11 of Set 9 | chernyshevskiy\n",
      "Processing Record 12 of Set 9 | prince rupert\n",
      "Processing Record 13 of Set 9 | chegdomyn\n",
      "City not found. Skipping...\n",
      "Processing Record 14 of Set 9 | mana\n",
      "Processing Record 15 of Set 9 | half moon bay\n",
      "Processing Record 16 of Set 9 | saint-pierre\n",
      "Processing Record 17 of Set 9 | mouzouras\n",
      "Processing Record 18 of Set 9 | mbuguni\n",
      "Processing Record 19 of Set 9 | southbridge\n",
      "Processing Record 20 of Set 9 | ambanja\n",
      "Processing Record 21 of Set 9 | brasilia de minas\n",
      "Processing Record 22 of Set 9 | skjervoy\n",
      "City not found. Skipping...\n",
      "Processing Record 23 of Set 9 | shiyan\n",
      "City not found. Skipping...\n",
      "Processing Record 24 of Set 9 | brownwood\n",
      "Processing Record 25 of Set 9 | mill creek\n",
      "City not found. Skipping...\n",
      "City not found. Skipping...\n",
      "Processing Record 26 of Set 9 | ulladulla\n",
      "City not found. Skipping...\n",
      "Processing Record 27 of Set 9 | amapa\n",
      "Processing Record 28 of Set 9 | pangody\n",
      "Processing Record 29 of Set 9 | dabat\n",
      "Processing Record 30 of Set 9 | yangshan\n",
      "Processing Record 31 of Set 9 | arlit\n",
      "Processing Record 32 of Set 9 | port hedland\n",
      "City not found. Skipping...\n",
      "Processing Record 33 of Set 9 | krompachy\n",
      "Processing Record 34 of Set 9 | paita\n",
      "Processing Record 35 of Set 9 | cukai\n",
      "Processing Record 36 of Set 9 | paris\n",
      "Processing Record 37 of Set 9 | katherine\n",
      "Processing Record 38 of Set 9 | brae\n",
      "Processing Record 39 of Set 9 | hoquiam\n",
      "Processing Record 40 of Set 9 | gazanjyk\n",
      "Processing Record 41 of Set 9 | senno\n",
      "City not found. Skipping...\n",
      "Processing Record 42 of Set 9 | moranbah\n",
      "Processing Record 43 of Set 9 | sinnamary\n",
      "Processing Record 44 of Set 9 | kavieng\n",
      "City not found. Skipping...\n",
      "Processing Record 45 of Set 9 | sobolevo\n",
      "Processing Record 46 of Set 9 | yarega\n",
      "Processing Record 47 of Set 9 | sola\n",
      "Processing Record 48 of Set 9 | jizan\n",
      "City not found. Skipping...\n",
      "Processing Record 49 of Set 9 | vuktyl\n",
      "Processing Record 1 of Set 10 | tsumeb\n",
      "Processing Record 2 of Set 10 | maumere\n",
      "Processing Record 3 of Set 10 | tabou\n",
      "Processing Record 4 of Set 10 | bur gabo\n",
      "Processing Record 5 of Set 10 | sao joao da barra\n",
      "Processing Record 6 of Set 10 | yamada\n",
      "City not found. Skipping...\n",
      "Processing Record 7 of Set 10 | tomatlan\n",
      "Processing Record 8 of Set 10 | makakilo city\n",
      "Processing Record 9 of Set 10 | socorro\n",
      "Processing Record 10 of Set 10 | sept-iles\n",
      "Processing Record 11 of Set 10 | trenggalek\n",
      "Processing Record 12 of Set 10 | tabas\n",
      "Processing Record 13 of Set 10 | piranhas\n",
      "Processing Record 14 of Set 10 | mao\n",
      "Processing Record 15 of Set 10 | svetlogorsk\n",
      "Processing Record 16 of Set 10 | neiafu\n",
      "Processing Record 17 of Set 10 | aksay\n",
      "Processing Record 18 of Set 10 | sidi ali\n",
      "Processing Record 19 of Set 10 | kununurra\n",
      "Processing Record 20 of Set 10 | damietta\n",
      "Processing Record 21 of Set 10 | shakiso\n",
      "City not found. Skipping...\n",
      "City not found. Skipping...\n",
      "Processing Record 22 of Set 10 | beloha\n",
      "Processing Record 23 of Set 10 | mayumba\n",
      "Processing Record 24 of Set 10 | mecca\n",
      "Processing Record 25 of Set 10 | nemuro\n",
      "Processing Record 26 of Set 10 | chudniv\n",
      "Processing Record 27 of Set 10 | bundaberg\n",
      "Processing Record 28 of Set 10 | xining\n",
      "Processing Record 29 of Set 10 | lazarev\n",
      "Processing Record 30 of Set 10 | codrington\n",
      "Processing Record 31 of Set 10 | suleja\n",
      "Processing Record 32 of Set 10 | manacapuru\n",
      "Processing Record 33 of Set 10 | varhaug\n",
      "Processing Record 34 of Set 10 | xocali\n",
      "Processing Record 35 of Set 10 | awjilah\n",
      "Processing Record 36 of Set 10 | cockburn town\n",
      "City not found. Skipping...\n",
      "Processing Record 37 of Set 10 | hede\n",
      "Processing Record 38 of Set 10 | deputatskiy\n",
      "Processing Record 39 of Set 10 | tahe\n",
      "City not found. Skipping...\n",
      "Processing Record 40 of Set 10 | brigham city\n",
      "Processing Record 41 of Set 10 | monroe\n",
      "Processing Record 42 of Set 10 | margate\n",
      "Processing Record 43 of Set 10 | trairi\n",
      "Processing Record 44 of Set 10 | razdolinsk\n",
      "Processing Record 45 of Set 10 | elizabethtown\n",
      "Processing Record 46 of Set 10 | faya\n",
      "Processing Record 47 of Set 10 | pindiga\n",
      "Processing Record 48 of Set 10 | bentong\n",
      "Processing Record 49 of Set 10 | mitsamiouli\n",
      "Processing Record 1 of Set 11 | port-gentil\n",
      "Processing Record 2 of Set 11 | dehui\n",
      "Processing Record 3 of Set 11 | inhambane\n",
      "Processing Record 4 of Set 11 | berwick\n",
      "Processing Record 5 of Set 11 | mys shmidta\n",
      "Processing Record 6 of Set 11 | snezhnogorsk\n",
      "Processing Record 7 of Set 11 | tobol\n",
      "Processing Record 8 of Set 11 | mogadishu\n",
      "Processing Record 9 of Set 11 | dzhebariki-khaya\n",
      "Processing Record 10 of Set 11 | werda\n",
      "Processing Record 11 of Set 11 | panlaitan\n",
      "Processing Record 12 of Set 11 | ketchikan\n",
      "Processing Record 13 of Set 11 | pangkalanbuun\n",
      "Processing Record 14 of Set 11 | abu dhabi\n",
      "Processing Record 15 of Set 11 | pilisszentkereszt\n",
      "Processing Record 16 of Set 11 | ennis\n",
      "Processing Record 17 of Set 11 | elizabeth city\n",
      "Processing Record 18 of Set 11 | malinovskiy\n",
      "City not found. Skipping...\n",
      "Processing Record 19 of Set 11 | salalah\n",
      "Processing Record 20 of Set 11 | samarai\n",
      "Processing Record 21 of Set 11 | gat\n",
      "Processing Record 22 of Set 11 | marzuq\n",
      "City not found. Skipping...\n",
      "Processing Record 23 of Set 11 | alihe\n",
      "Processing Record 24 of Set 11 | nikolayevka\n",
      "Processing Record 25 of Set 11 | alim\n",
      "Processing Record 26 of Set 11 | nagar karnul\n",
      "Processing Record 27 of Set 11 | atraulia\n",
      "Processing Record 28 of Set 11 | manitouwadge\n",
      "Processing Record 29 of Set 11 | dauphin\n",
      "Processing Record 30 of Set 11 | tamasane\n",
      "Processing Record 31 of Set 11 | saldanha\n",
      "Processing Record 32 of Set 11 | iquique\n",
      "Processing Record 33 of Set 11 | pandamatenga\n",
      "City not found. Skipping...\n",
      "Processing Record 34 of Set 11 | adrar\n",
      "Processing Record 35 of Set 11 | dicabisagan\n",
      "Processing Record 36 of Set 11 | ayr\n",
      "Processing Record 37 of Set 11 | phan rang\n",
      "Processing Record 38 of Set 11 | acarau\n",
      "Processing Record 39 of Set 11 | mayahi\n",
      "Processing Record 40 of Set 11 | mokhsogollokh\n",
      "Processing Record 41 of Set 11 | kralendijk\n",
      "City not found. Skipping...\n",
      "City not found. Skipping...\n",
      "Processing Record 42 of Set 11 | jijiga\n",
      "Processing Record 43 of Set 11 | puerto madryn\n",
      "Processing Record 44 of Set 11 | astana\n",
      "Processing Record 45 of Set 11 | abu zabad\n",
      "Processing Record 46 of Set 11 | autun\n",
      "City not found. Skipping...\n",
      "Processing Record 47 of Set 11 | rocha\n",
      "Processing Record 48 of Set 11 | kavaratti\n",
      "Processing Record 49 of Set 11 | pedasi\n",
      "Processing Record 1 of Set 12 | peniche\n",
      "Processing Record 2 of Set 12 | pakxan\n",
      "Processing Record 3 of Set 12 | khetri\n",
      "Processing Record 4 of Set 12 | teguldet\n",
      "Processing Record 5 of Set 12 | bridlington\n",
      "Processing Record 6 of Set 12 | marawi\n",
      "Processing Record 7 of Set 12 | qasigiannguit\n",
      "Processing Record 8 of Set 12 | raga\n",
      "Processing Record 9 of Set 12 | kletskaya\n",
      "City not found. Skipping...\n",
      "Processing Record 10 of Set 12 | tessalit\n",
      "Processing Record 11 of Set 12 | ekibastuz\n",
      "Processing Record 12 of Set 12 | tilichiki\n"
     ]
    },
    {
     "name": "stdout",
     "output_type": "stream",
     "text": [
      "Processing Record 13 of Set 12 | talara\n",
      "Processing Record 14 of Set 12 | atemar\n",
      "Processing Record 15 of Set 12 | harnosand\n",
      "------------------------------\n",
      "Data Retrieval Complete\n",
      "------------------------------\n"
     ]
    }
   ],
   "source": [
    "# set lists for the dataframe\n",
    "city_two = []\n",
    "cloudinesses = []\n",
    "dates = []\n",
    "humidities = []\n",
    "lats = []\n",
    "lngs = []\n",
    "max_temps = []\n",
    "wind_speeds = []\n",
    "countries = []\n",
    "\n",
    "for city in cities:\n",
    "    try:\n",
    "        response = requests.get(query_url + city.replace(\" \",\"&\")).json()\n",
    "        cloudinesses.append(response['clouds']['all'])\n",
    "        countries.append(response['sys']['country'])\n",
    "        dates.append(response['dt'])\n",
    "        humidities.append(response['main']['humidity'])\n",
    "        lats.append(response['coord']['lat'])\n",
    "        lngs.append(response['coord']['lon'])\n",
    "        max_temps.append(response['main']['temp_max'])\n",
    "        wind_speeds.append(response['wind']['speed'])\n",
    "        if count_one > 48:\n",
    "            count_one = 1\n",
    "            set_one += 1\n",
    "            city_two.append(city)\n",
    "        else:\n",
    "            count_one += 1\n",
    "            city_two.append(city)\n",
    "        print(f\"Processing Record {count_one} of Set {set_one} | {city}\")\n",
    "    except Exception:\n",
    "        print(\"City not found. Skipping...\")\n",
    "print(\"------------------------------\\nData Retrieval Complete\\n------------------------------\")\n"
   ]
  },
  {
   "cell_type": "code",
   "execution_count": null,
   "metadata": {},
   "outputs": [],
   "source": []
  },
  {
   "cell_type": "markdown",
   "metadata": {},
   "source": [
    "### Convert Raw Data to DataFrame\n",
    "* Export the city data into a .csv.\n",
    "* Display the DataFrame"
   ]
  },
  {
   "cell_type": "code",
   "execution_count": 36,
   "metadata": {},
   "outputs": [],
   "source": [
    "# create a dictionary for establishing dataframe\n",
    "weather_dict = {\n",
    "    \"City\":city_two,\n",
    "    \"Cloudiness\":cloudinesses,\n",
    "    \"Country\":countries,\n",
    "    \"Date\":dates,\n",
    "    \"Humidity\":humidities,\n",
    "    \"Lat\":lats,\n",
    "    \"Lng\":lngs,\n",
    "    \"Max Temp\":max_temps,\n",
    "    \"Wind Speed\":wind_speeds\n",
    "}"
   ]
  },
  {
   "cell_type": "code",
   "execution_count": 37,
   "metadata": {},
   "outputs": [],
   "source": [
    "# establish dataframe\n",
    "weather_dataframe = pd.DataFrame(weather_dict)"
   ]
  },
  {
   "cell_type": "code",
   "execution_count": 38,
   "metadata": {},
   "outputs": [
    {
     "data": {
      "text/html": [
       "<div>\n",
       "<style scoped>\n",
       "    .dataframe tbody tr th:only-of-type {\n",
       "        vertical-align: middle;\n",
       "    }\n",
       "\n",
       "    .dataframe tbody tr th {\n",
       "        vertical-align: top;\n",
       "    }\n",
       "\n",
       "    .dataframe thead th {\n",
       "        text-align: right;\n",
       "    }\n",
       "</style>\n",
       "<table border=\"1\" class=\"dataframe\">\n",
       "  <thead>\n",
       "    <tr style=\"text-align: right;\">\n",
       "      <th></th>\n",
       "      <th>City</th>\n",
       "      <th>Cloudiness</th>\n",
       "      <th>Country</th>\n",
       "      <th>Date</th>\n",
       "      <th>Humidity</th>\n",
       "      <th>Lat</th>\n",
       "      <th>Lng</th>\n",
       "      <th>Max Temp</th>\n",
       "      <th>Wind Speed</th>\n",
       "    </tr>\n",
       "  </thead>\n",
       "  <tbody>\n",
       "    <tr>\n",
       "      <th>0</th>\n",
       "      <td>ponta do sol</td>\n",
       "      <td>78</td>\n",
       "      <td>PT</td>\n",
       "      <td>1632798348</td>\n",
       "      <td>83</td>\n",
       "      <td>38.7333</td>\n",
       "      <td>-28.2667</td>\n",
       "      <td>64.42</td>\n",
       "      <td>14.03</td>\n",
       "    </tr>\n",
       "    <tr>\n",
       "      <th>1</th>\n",
       "      <td>namibe</td>\n",
       "      <td>30</td>\n",
       "      <td>AO</td>\n",
       "      <td>1632798348</td>\n",
       "      <td>89</td>\n",
       "      <td>-15.1961</td>\n",
       "      <td>12.1522</td>\n",
       "      <td>62.13</td>\n",
       "      <td>3.87</td>\n",
       "    </tr>\n",
       "    <tr>\n",
       "      <th>2</th>\n",
       "      <td>biak</td>\n",
       "      <td>95</td>\n",
       "      <td>ID</td>\n",
       "      <td>1632798349</td>\n",
       "      <td>68</td>\n",
       "      <td>-0.9131</td>\n",
       "      <td>122.8766</td>\n",
       "      <td>83.07</td>\n",
       "      <td>4.07</td>\n",
       "    </tr>\n",
       "    <tr>\n",
       "      <th>3</th>\n",
       "      <td>ushuaia</td>\n",
       "      <td>93</td>\n",
       "      <td>AR</td>\n",
       "      <td>1632798349</td>\n",
       "      <td>94</td>\n",
       "      <td>-54.8000</td>\n",
       "      <td>-68.3000</td>\n",
       "      <td>36.90</td>\n",
       "      <td>3.15</td>\n",
       "    </tr>\n",
       "    <tr>\n",
       "      <th>4</th>\n",
       "      <td>rikitea</td>\n",
       "      <td>37</td>\n",
       "      <td>PF</td>\n",
       "      <td>1632798350</td>\n",
       "      <td>75</td>\n",
       "      <td>-23.1203</td>\n",
       "      <td>-134.9692</td>\n",
       "      <td>73.15</td>\n",
       "      <td>21.14</td>\n",
       "    </tr>\n",
       "  </tbody>\n",
       "</table>\n",
       "</div>"
      ],
      "text/plain": [
       "           City  Cloudiness Country        Date  Humidity      Lat       Lng  \\\n",
       "0  ponta do sol          78      PT  1632798348        83  38.7333  -28.2667   \n",
       "1        namibe          30      AO  1632798348        89 -15.1961   12.1522   \n",
       "2          biak          95      ID  1632798349        68  -0.9131  122.8766   \n",
       "3       ushuaia          93      AR  1632798349        94 -54.8000  -68.3000   \n",
       "4       rikitea          37      PF  1632798350        75 -23.1203 -134.9692   \n",
       "\n",
       "   Max Temp  Wind Speed  \n",
       "0     64.42       14.03  \n",
       "1     62.13        3.87  \n",
       "2     83.07        4.07  \n",
       "3     36.90        3.15  \n",
       "4     73.15       21.14  "
      ]
     },
     "execution_count": 38,
     "metadata": {},
     "output_type": "execute_result"
    }
   ],
   "source": [
    "weather_dataframe.head()"
   ]
  },
  {
   "cell_type": "code",
   "execution_count": 39,
   "metadata": {},
   "outputs": [
    {
     "data": {
      "text/plain": [
       "City          554\n",
       "Cloudiness    554\n",
       "Country       554\n",
       "Date          554\n",
       "Humidity      554\n",
       "Lat           554\n",
       "Lng           554\n",
       "Max Temp      554\n",
       "Wind Speed    554\n",
       "dtype: int64"
      ]
     },
     "execution_count": 39,
     "metadata": {},
     "output_type": "execute_result"
    }
   ],
   "source": [
    "weather_dataframe.count()"
   ]
  },
  {
   "cell_type": "code",
   "execution_count": 40,
   "metadata": {},
   "outputs": [],
   "source": [
    "# output data to csv\n",
    "weather_dataframe.to_csv(output_data_file)"
   ]
  },
  {
   "cell_type": "code",
   "execution_count": 41,
   "metadata": {},
   "outputs": [
    {
     "data": {
      "text/html": [
       "<div>\n",
       "<style scoped>\n",
       "    .dataframe tbody tr th:only-of-type {\n",
       "        vertical-align: middle;\n",
       "    }\n",
       "\n",
       "    .dataframe tbody tr th {\n",
       "        vertical-align: top;\n",
       "    }\n",
       "\n",
       "    .dataframe thead th {\n",
       "        text-align: right;\n",
       "    }\n",
       "</style>\n",
       "<table border=\"1\" class=\"dataframe\">\n",
       "  <thead>\n",
       "    <tr style=\"text-align: right;\">\n",
       "      <th></th>\n",
       "      <th>City</th>\n",
       "      <th>Cloudiness</th>\n",
       "      <th>Country</th>\n",
       "      <th>Date</th>\n",
       "      <th>Humidity</th>\n",
       "      <th>Lat</th>\n",
       "      <th>Lng</th>\n",
       "      <th>Max Temp</th>\n",
       "      <th>Wind Speed</th>\n",
       "    </tr>\n",
       "  </thead>\n",
       "  <tbody>\n",
       "    <tr>\n",
       "      <th>0</th>\n",
       "      <td>ponta do sol</td>\n",
       "      <td>78</td>\n",
       "      <td>PT</td>\n",
       "      <td>1632798348</td>\n",
       "      <td>83</td>\n",
       "      <td>38.7333</td>\n",
       "      <td>-28.2667</td>\n",
       "      <td>64.42</td>\n",
       "      <td>14.03</td>\n",
       "    </tr>\n",
       "    <tr>\n",
       "      <th>1</th>\n",
       "      <td>namibe</td>\n",
       "      <td>30</td>\n",
       "      <td>AO</td>\n",
       "      <td>1632798348</td>\n",
       "      <td>89</td>\n",
       "      <td>-15.1961</td>\n",
       "      <td>12.1522</td>\n",
       "      <td>62.13</td>\n",
       "      <td>3.87</td>\n",
       "    </tr>\n",
       "    <tr>\n",
       "      <th>2</th>\n",
       "      <td>biak</td>\n",
       "      <td>95</td>\n",
       "      <td>ID</td>\n",
       "      <td>1632798349</td>\n",
       "      <td>68</td>\n",
       "      <td>-0.9131</td>\n",
       "      <td>122.8766</td>\n",
       "      <td>83.07</td>\n",
       "      <td>4.07</td>\n",
       "    </tr>\n",
       "    <tr>\n",
       "      <th>3</th>\n",
       "      <td>ushuaia</td>\n",
       "      <td>93</td>\n",
       "      <td>AR</td>\n",
       "      <td>1632798349</td>\n",
       "      <td>94</td>\n",
       "      <td>-54.8000</td>\n",
       "      <td>-68.3000</td>\n",
       "      <td>36.90</td>\n",
       "      <td>3.15</td>\n",
       "    </tr>\n",
       "    <tr>\n",
       "      <th>4</th>\n",
       "      <td>rikitea</td>\n",
       "      <td>37</td>\n",
       "      <td>PF</td>\n",
       "      <td>1632798350</td>\n",
       "      <td>75</td>\n",
       "      <td>-23.1203</td>\n",
       "      <td>-134.9692</td>\n",
       "      <td>73.15</td>\n",
       "      <td>21.14</td>\n",
       "    </tr>\n",
       "    <tr>\n",
       "      <th>...</th>\n",
       "      <td>...</td>\n",
       "      <td>...</td>\n",
       "      <td>...</td>\n",
       "      <td>...</td>\n",
       "      <td>...</td>\n",
       "      <td>...</td>\n",
       "      <td>...</td>\n",
       "      <td>...</td>\n",
       "      <td>...</td>\n",
       "    </tr>\n",
       "    <tr>\n",
       "      <th>549</th>\n",
       "      <td>ekibastuz</td>\n",
       "      <td>100</td>\n",
       "      <td>KZ</td>\n",
       "      <td>1632798507</td>\n",
       "      <td>81</td>\n",
       "      <td>51.6667</td>\n",
       "      <td>75.3667</td>\n",
       "      <td>38.43</td>\n",
       "      <td>13.67</td>\n",
       "    </tr>\n",
       "    <tr>\n",
       "      <th>550</th>\n",
       "      <td>tilichiki</td>\n",
       "      <td>100</td>\n",
       "      <td>RU</td>\n",
       "      <td>1632798507</td>\n",
       "      <td>55</td>\n",
       "      <td>60.4667</td>\n",
       "      <td>166.1000</td>\n",
       "      <td>42.78</td>\n",
       "      <td>8.66</td>\n",
       "    </tr>\n",
       "    <tr>\n",
       "      <th>551</th>\n",
       "      <td>talara</td>\n",
       "      <td>10</td>\n",
       "      <td>PE</td>\n",
       "      <td>1632798508</td>\n",
       "      <td>87</td>\n",
       "      <td>-4.5772</td>\n",
       "      <td>-81.2719</td>\n",
       "      <td>64.81</td>\n",
       "      <td>12.62</td>\n",
       "    </tr>\n",
       "    <tr>\n",
       "      <th>552</th>\n",
       "      <td>atemar</td>\n",
       "      <td>100</td>\n",
       "      <td>RU</td>\n",
       "      <td>1632798508</td>\n",
       "      <td>87</td>\n",
       "      <td>54.1810</td>\n",
       "      <td>45.4091</td>\n",
       "      <td>38.05</td>\n",
       "      <td>13.49</td>\n",
       "    </tr>\n",
       "    <tr>\n",
       "      <th>553</th>\n",
       "      <td>harnosand</td>\n",
       "      <td>84</td>\n",
       "      <td>SE</td>\n",
       "      <td>1632798508</td>\n",
       "      <td>90</td>\n",
       "      <td>62.6323</td>\n",
       "      <td>17.9379</td>\n",
       "      <td>53.01</td>\n",
       "      <td>13.29</td>\n",
       "    </tr>\n",
       "  </tbody>\n",
       "</table>\n",
       "<p>554 rows × 9 columns</p>\n",
       "</div>"
      ],
      "text/plain": [
       "             City  Cloudiness Country        Date  Humidity      Lat  \\\n",
       "0    ponta do sol          78      PT  1632798348        83  38.7333   \n",
       "1          namibe          30      AO  1632798348        89 -15.1961   \n",
       "2            biak          95      ID  1632798349        68  -0.9131   \n",
       "3         ushuaia          93      AR  1632798349        94 -54.8000   \n",
       "4         rikitea          37      PF  1632798350        75 -23.1203   \n",
       "..            ...         ...     ...         ...       ...      ...   \n",
       "549     ekibastuz         100      KZ  1632798507        81  51.6667   \n",
       "550     tilichiki         100      RU  1632798507        55  60.4667   \n",
       "551        talara          10      PE  1632798508        87  -4.5772   \n",
       "552        atemar         100      RU  1632798508        87  54.1810   \n",
       "553     harnosand          84      SE  1632798508        90  62.6323   \n",
       "\n",
       "          Lng  Max Temp  Wind Speed  \n",
       "0    -28.2667     64.42       14.03  \n",
       "1     12.1522     62.13        3.87  \n",
       "2    122.8766     83.07        4.07  \n",
       "3    -68.3000     36.90        3.15  \n",
       "4   -134.9692     73.15       21.14  \n",
       "..        ...       ...         ...  \n",
       "549   75.3667     38.43       13.67  \n",
       "550  166.1000     42.78        8.66  \n",
       "551  -81.2719     64.81       12.62  \n",
       "552   45.4091     38.05       13.49  \n",
       "553   17.9379     53.01       13.29  \n",
       "\n",
       "[554 rows x 9 columns]"
      ]
     },
     "execution_count": 41,
     "metadata": {},
     "output_type": "execute_result"
    }
   ],
   "source": [
    "weather_dataframe"
   ]
  },
  {
   "cell_type": "code",
   "execution_count": 42,
   "metadata": {},
   "outputs": [
    {
     "data": {
      "text/plain": [
       "554"
      ]
     },
     "execution_count": 42,
     "metadata": {},
     "output_type": "execute_result"
    }
   ],
   "source": [
    "city_left_count = len(weather_dataframe)\n",
    "city_left_count"
   ]
  },
  {
   "cell_type": "markdown",
   "metadata": {},
   "source": [
    "## Inspect the data and remove the cities where the humidity > 100%.\n",
    "----\n",
    "Skip this step if there are no cities that have humidity > 100%. "
   ]
  },
  {
   "cell_type": "code",
   "execution_count": 43,
   "metadata": {},
   "outputs": [
    {
     "data": {
      "text/plain": [
       "100"
      ]
     },
     "execution_count": 43,
     "metadata": {},
     "output_type": "execute_result"
    }
   ],
   "source": [
    "weather_dataframe['Humidity'].max()"
   ]
  },
  {
   "cell_type": "code",
   "execution_count": 44,
   "metadata": {},
   "outputs": [
    {
     "data": {
      "text/html": [
       "<div>\n",
       "<style scoped>\n",
       "    .dataframe tbody tr th:only-of-type {\n",
       "        vertical-align: middle;\n",
       "    }\n",
       "\n",
       "    .dataframe tbody tr th {\n",
       "        vertical-align: top;\n",
       "    }\n",
       "\n",
       "    .dataframe thead th {\n",
       "        text-align: right;\n",
       "    }\n",
       "</style>\n",
       "<table border=\"1\" class=\"dataframe\">\n",
       "  <thead>\n",
       "    <tr style=\"text-align: right;\">\n",
       "      <th></th>\n",
       "      <th>Cloudiness</th>\n",
       "      <th>Date</th>\n",
       "      <th>Humidity</th>\n",
       "      <th>Lat</th>\n",
       "      <th>Lng</th>\n",
       "      <th>Max Temp</th>\n",
       "      <th>Wind Speed</th>\n",
       "    </tr>\n",
       "  </thead>\n",
       "  <tbody>\n",
       "    <tr>\n",
       "      <th>count</th>\n",
       "      <td>554.000000</td>\n",
       "      <td>5.540000e+02</td>\n",
       "      <td>554.000000</td>\n",
       "      <td>554.000000</td>\n",
       "      <td>554.000000</td>\n",
       "      <td>554.000000</td>\n",
       "      <td>554.000000</td>\n",
       "    </tr>\n",
       "    <tr>\n",
       "      <th>mean</th>\n",
       "      <td>53.496390</td>\n",
       "      <td>1.632798e+09</td>\n",
       "      <td>71.781588</td>\n",
       "      <td>22.998149</td>\n",
       "      <td>20.826937</td>\n",
       "      <td>64.040108</td>\n",
       "      <td>7.151661</td>\n",
       "    </tr>\n",
       "    <tr>\n",
       "      <th>std</th>\n",
       "      <td>39.198306</td>\n",
       "      <td>7.482005e+01</td>\n",
       "      <td>20.015662</td>\n",
       "      <td>31.447847</td>\n",
       "      <td>86.827469</td>\n",
       "      <td>16.501675</td>\n",
       "      <td>4.851965</td>\n",
       "    </tr>\n",
       "    <tr>\n",
       "      <th>min</th>\n",
       "      <td>0.000000</td>\n",
       "      <td>1.632798e+09</td>\n",
       "      <td>9.000000</td>\n",
       "      <td>-54.800000</td>\n",
       "      <td>-175.200000</td>\n",
       "      <td>21.000000</td>\n",
       "      <td>0.000000</td>\n",
       "    </tr>\n",
       "    <tr>\n",
       "      <th>25%</th>\n",
       "      <td>10.000000</td>\n",
       "      <td>1.632798e+09</td>\n",
       "      <td>61.250000</td>\n",
       "      <td>-2.742250</td>\n",
       "      <td>-52.895350</td>\n",
       "      <td>52.270000</td>\n",
       "      <td>3.440000</td>\n",
       "    </tr>\n",
       "    <tr>\n",
       "      <th>50%</th>\n",
       "      <td>59.000000</td>\n",
       "      <td>1.632798e+09</td>\n",
       "      <td>74.500000</td>\n",
       "      <td>29.070600</td>\n",
       "      <td>23.015350</td>\n",
       "      <td>67.990000</td>\n",
       "      <td>6.205000</td>\n",
       "    </tr>\n",
       "    <tr>\n",
       "      <th>75%</th>\n",
       "      <td>94.000000</td>\n",
       "      <td>1.632798e+09</td>\n",
       "      <td>88.000000</td>\n",
       "      <td>49.212525</td>\n",
       "      <td>98.188050</td>\n",
       "      <td>77.047500</td>\n",
       "      <td>9.855000</td>\n",
       "    </tr>\n",
       "    <tr>\n",
       "      <th>max</th>\n",
       "      <td>100.000000</td>\n",
       "      <td>1.632799e+09</td>\n",
       "      <td>100.000000</td>\n",
       "      <td>78.218600</td>\n",
       "      <td>179.316700</td>\n",
       "      <td>95.320000</td>\n",
       "      <td>27.470000</td>\n",
       "    </tr>\n",
       "  </tbody>\n",
       "</table>\n",
       "</div>"
      ],
      "text/plain": [
       "       Cloudiness          Date    Humidity         Lat         Lng  \\\n",
       "count  554.000000  5.540000e+02  554.000000  554.000000  554.000000   \n",
       "mean    53.496390  1.632798e+09   71.781588   22.998149   20.826937   \n",
       "std     39.198306  7.482005e+01   20.015662   31.447847   86.827469   \n",
       "min      0.000000  1.632798e+09    9.000000  -54.800000 -175.200000   \n",
       "25%     10.000000  1.632798e+09   61.250000   -2.742250  -52.895350   \n",
       "50%     59.000000  1.632798e+09   74.500000   29.070600   23.015350   \n",
       "75%     94.000000  1.632798e+09   88.000000   49.212525   98.188050   \n",
       "max    100.000000  1.632799e+09  100.000000   78.218600  179.316700   \n",
       "\n",
       "         Max Temp  Wind Speed  \n",
       "count  554.000000  554.000000  \n",
       "mean    64.040108    7.151661  \n",
       "std     16.501675    4.851965  \n",
       "min     21.000000    0.000000  \n",
       "25%     52.270000    3.440000  \n",
       "50%     67.990000    6.205000  \n",
       "75%     77.047500    9.855000  \n",
       "max     95.320000   27.470000  "
      ]
     },
     "execution_count": 44,
     "metadata": {},
     "output_type": "execute_result"
    }
   ],
   "source": [
    "describe_df = weather_dataframe.describe()\n",
    "describe_df"
   ]
  },
  {
   "cell_type": "code",
   "execution_count": 45,
   "metadata": {},
   "outputs": [
    {
     "name": "stdout",
     "output_type": "stream",
     "text": [
      "NO CITIES OVER 100% HUMIDITY\n"
     ]
    }
   ],
   "source": [
    "#  Get the indices of cities that have humidity over 100%.\n",
    "print('NO CITIES OVER 100% HUMIDITY')"
   ]
  },
  {
   "cell_type": "code",
   "execution_count": 46,
   "metadata": {},
   "outputs": [],
   "source": [
    "# Make a new DataFrame equal to the city data to drop all humidity outliers by index.\n",
    "# Passing \"inplace=False\" will make a copy of the city_data DataFrame, which we call \"clean_city_data\".\n"
   ]
  },
  {
   "cell_type": "code",
   "execution_count": null,
   "metadata": {},
   "outputs": [],
   "source": [
    "\n"
   ]
  },
  {
   "cell_type": "markdown",
   "metadata": {},
   "source": [
    "## Plotting the Data\n",
    "* Use proper labeling of the plots using plot titles (including date of analysis) and axes labels.\n",
    "* Save the plotted figures as .pngs."
   ]
  },
  {
   "cell_type": "markdown",
   "metadata": {},
   "source": [
    "## Latitude vs. Temperature Plot"
   ]
  },
  {
   "cell_type": "code",
   "execution_count": 47,
   "metadata": {
    "scrolled": true
   },
   "outputs": [
    {
     "data": {
      "image/png": "[encoded data removed]",
      "text/plain": [
       "<Figure size 432x288 with 1 Axes>"
      ]
     },
     "metadata": {
      "needs_background": "light"
     },
     "output_type": "display_data"
    }
   ],
   "source": [
    "plt.scatter(weather_dataframe[\"Lat\"],weather_dataframe[\"Max Temp\"],edgecolors=\"black\",facecolors=\"skyblue\")\n",
    "plt.title(\"City Latitude vs. Max Temperature (09/26/21)\")\n",
    "plt.xlabel(\"Latitude\")\n",
    "plt.ylabel(\"Max Temperature (F)\")\n",
    "plt.grid (b=True,which=\"major\",axis=\"both\",linestyle=\"-\",color=\"lightgrey\")\n",
    "plt.savefig(\"../output_data/fig1.png\")\n",
    "plt.show()"
   ]
  },
  {
   "cell_type": "code",
   "execution_count": 2,
   "metadata": {},
   "outputs": [
    {
     "name": "stdout",
     "output_type": "stream",
     "text": [
      "The code is analyzing the temperature recorded in the queried cities against where they are geographically. This is done to get a sense of the relationship that your geographical latitude plays in the temperature of your city\n"
     ]
    }
   ],
   "source": [
    "print('The code is analyzing the temperature recorded in the queried cities against where they are geographically. This is done to get a sense of the relationship that your geographical latitude plays in the temperature of your city')"
   ]
  },
  {
   "cell_type": "markdown",
   "metadata": {},
   "source": [
    "## Latitude vs. Humidity Plot"
   ]
  },
  {
   "cell_type": "code",
   "execution_count": 48,
   "metadata": {},
   "outputs": [
    {
     "data": {
      "image/png": "[encoded data removed]",
      "text/plain": [
       "<Figure size 432x288 with 1 Axes>"
      ]
     },
     "metadata": {
      "needs_background": "light"
     },
     "output_type": "display_data"
    }
   ],
   "source": [
    "plt.scatter(weather_dataframe[\"Lat\"],weather_dataframe[\"Humidity\"],edgecolors=\"black\",facecolors=\"skyblue\")\n",
    "plt.title(\"City Latitude vs. Humidity (09/26/21)\")\n",
    "plt.xlabel(\"Latitude\")\n",
    "plt.ylabel(\"Humidity (%)\")\n",
    "plt.grid (b=True,which=\"major\",axis=\"both\",linestyle=\"-\",color=\"lightgrey\")\n",
    "plt.savefig(\"../output_data/fig2.png\")\n",
    "plt.show()"
   ]
  },
  {
   "cell_type": "code",
   "execution_count": 49,
   "metadata": {},
   "outputs": [
    {
     "name": "stdout",
     "output_type": "stream",
     "text": [
      "The code is analyzing the humidity level recorded in the queried cities against where they are geographically by latitude. This is done to get a sense of the relationship that your geographical latitude plays in the humidity of your city\n"
     ]
    }
   ],
   "source": [
    "print('The code is analyzing the humidity level recorded in the queried cities against where they are geographically by latitude. This is done to get a sense of the relationship that your geographical latitude plays in the humidity of your city')"
   ]
  },
  {
   "cell_type": "markdown",
   "metadata": {},
   "source": [
    "## Latitude vs. Cloudiness Plot"
   ]
  },
  {
   "cell_type": "code",
   "execution_count": 50,
   "metadata": {},
   "outputs": [
    {
     "data": {
      "image/png": "[encoded data removed]",
      "text/plain": [
       "<Figure size 432x288 with 1 Axes>"
      ]
     },
     "metadata": {
      "needs_background": "light"
     },
     "output_type": "display_data"
    }
   ],
   "source": [
    "plt.scatter(weather_dataframe[\"Lat\"],weather_dataframe[\"Cloudiness\"],edgecolors=\"black\",facecolors=\"skyblue\")\n",
    "plt.title(\"City Latitude vs. Cloudiness (09/26/21)\")\n",
    "plt.xlabel(\"Latitude\")\n",
    "plt.ylabel(\"Cloudiness (%)\")\n",
    "plt.grid (b=True,which=\"major\",axis=\"both\",linestyle=\"-\",color=\"lightgrey\")\n",
    "plt.savefig(\"../output_data/fig3.png\")\n",
    "plt.show()"
   ]
  },
  {
   "cell_type": "code",
   "execution_count": 51,
   "metadata": {},
   "outputs": [
    {
     "name": "stdout",
     "output_type": "stream",
     "text": [
      "The code is analyzing the cloudiness recorded in the queried cities against where they are geographically. This is done to get a sense of the relationship that your geographical latitude plays in the cloudiness of your city\n"
     ]
    }
   ],
   "source": [
    "print('The code is analyzing the cloudiness recorded in the queried cities against where they are geographically. This is done to get a sense of the relationship that your geographical latitude plays in the cloudiness of your city')"
   ]
  },
  {
   "cell_type": "markdown",
   "metadata": {},
   "source": [
    "## Latitude vs. Wind Speed Plot"
   ]
  },
  {
   "cell_type": "code",
   "execution_count": 52,
   "metadata": {},
   "outputs": [
    {
     "data": {
      "image/png": "[encoded data removed]",
      "text/plain": [
       "<Figure size 432x288 with 1 Axes>"
      ]
     },
     "metadata": {
      "needs_background": "light"
     },
     "output_type": "display_data"
    }
   ],
   "source": [
    "plt.scatter(weather_dataframe[\"Lat\"],weather_dataframe[\"Wind Speed\"],edgecolors=\"black\",facecolors=\"skyblue\")\n",
    "plt.title(\"City Latitude vs. Wind Speed (09/26/21)\")\n",
    "plt.xlabel(\"Latitude\")\n",
    "plt.ylabel(\"Wind Speed (mph)\")\n",
    "plt.grid (b=True,which=\"major\",axis=\"both\",linestyle=\"-\",color=\"lightgrey\")\n",
    "plt.savefig(\"../output_data/fig4.png\")\n",
    "plt.show()"
   ]
  },
  {
   "cell_type": "code",
   "execution_count": 53,
   "metadata": {},
   "outputs": [
    {
     "name": "stdout",
     "output_type": "stream",
     "text": [
      "The code is analyzing the wind speed recorded in the queried cities against where they are geographically. This is done to get a sense of the relationship that your geographical latitude plays in the wind speed of your city\n"
     ]
    }
   ],
   "source": [
    "print('The code is analyzing the wind speed recorded in the queried cities against where they are geographically. This is done to get a sense of the relationship that your geographical latitude plays in the wind speed of your city')"
   ]
  },
  {
   "cell_type": "markdown",
   "metadata": {},
   "source": [
    "## Linear Regression"
   ]
  },
  {
   "cell_type": "code",
   "execution_count": 54,
   "metadata": {},
   "outputs": [],
   "source": [
    "def makeLinRegression(df, x_Col, y_Col):\n",
    "    #first, perform the linear regression on the data\n",
    "    (regr_slope, regr_intercept, regr_r_val, _, _) = linregress(df[x_Col], \n",
    "                                                           df[y_Col])\n",
    "    #setup the linear regression line x and y axes data points\n",
    "    regr_line_x = np.array([a for a in range(int(min(df[x_Col].values)), int(max(df[x_Col].values)+1))])\n",
    "    regr_line_y = regr_slope * regr_line_x + regr_intercept\n",
    "\n",
    "    #plot the scatterplot with the raw data first!\n",
    "    df_axes = df.plot(kind=\"scatter\", x=x_Col, y=y_Col, \n",
    "                      title=\"{} vs. {} ({})\"\n",
    "                        .format(y_Col, x_Col, weather_dataframe[\"City\"].iloc[0].split(\",\")[0]))\n",
    "\n",
    "    #add the best fit lines to the plot as a solid red line\n",
    "    df_axes.plot(regr_line_x, regr_line_y, 'r')\n",
    "\n",
    "    #output best-fit line information\n",
    "    print(\"The equation of the best-fit linear regression line for this chart is y={:.2f}x+{:.2f}\"\n",
    "          .format(regr_slope, regr_intercept))\n",
    "    print(\"The r-squared correlation coefficient for this line is {:.2f}\".format(regr_r_val))\n",
    "                  \n",
    "    #return the axes object for the plots, in case any changes need to be made\n",
    "    return df_axes"
   ]
  },
  {
   "cell_type": "code",
   "execution_count": 55,
   "metadata": {},
   "outputs": [
    {
     "name": "stdout",
     "output_type": "stream",
     "text": [
      "There are 401 cities in the northern hemisphere out of 554 cities total, representing 72.4% of all cities in the data set.\n"
     ]
    }
   ],
   "source": [
    "northern_hemisphere = weather_dataframe.loc[weather_dataframe[\"Lat\"] >= 0]\n",
    "northern_cities_count = len(northern_hemisphere)\n",
    "print(\"There are {} cities in the northern hemisphere out of {} cities total, representing {:.1%} of all cities in the data set.\"\n",
    "     .format(northern_cities_count, city_left_count, (northern_cities_count/city_left_count)))\n"
   ]
  },
  {
   "cell_type": "code",
   "execution_count": 56,
   "metadata": {},
   "outputs": [
    {
     "name": "stdout",
     "output_type": "stream",
     "text": [
      "There are 153 cities in the southern hemisphere out of 554 cities total, representing 27.6% of all cities in the data set.\n"
     ]
    }
   ],
   "source": [
    "southern_hemisphere = weather_dataframe.loc[weather_dataframe[\"Lat\"] < 0]\n",
    "southern_cities_count = len(southern_hemisphere)\n",
    "print(\"There are {} cities in the southern hemisphere out of {} cities total, representing {:.1%} of all cities in the data set.\"\n",
    "     .format(southern_cities_count, city_left_count, (southern_cities_count/city_left_count)))"
   ]
  },
  {
   "cell_type": "markdown",
   "metadata": {},
   "source": [
    "####  Northern Hemisphere - Max Temp vs. Latitude Linear Regression"
   ]
  },
  {
   "cell_type": "code",
   "execution_count": 75,
   "metadata": {},
   "outputs": [
    {
     "name": "stdout",
     "output_type": "stream",
     "text": [
      "The equation of the best-fit linear regression line for this chart is y=-0.75x+90.76\n",
      "The r-squared correlation coefficient for this line is -0.84\n"
     ]
    },
    {
     "data": {
      "text/plain": [
       "Text(0.5, 15.0, 'Latitude')"
      ]
     },
     "execution_count": 75,
     "metadata": {},
     "output_type": "execute_result"
    },
    {
     "data": {
      "image/png": "[encoded data removed]",
      "text/plain": [
       "<Figure size 432x288 with 1 Axes>"
      ]
     },
     "metadata": {
      "needs_background": "light"
     },
     "output_type": "display_data"
    }
   ],
   "source": [
    "(n_temp_slope, n_temp_intercept, n_temp_r_val, _, _) = linregress(northern_hemisphere[\"Lat\"], \n",
    "                                                           northern_hemisphere[\"Max Temp\"])\n",
    "\n",
    "regr_line_x = np.array([a for a in range(80)])\n",
    "regr_line_y = n_temp_slope * regr_line_x + n_temp_intercept\n",
    "\n",
    "n_temp_axes = northern_hemisphere.plot(kind=\"scatter\", x=\"Lat\", \n",
    "                                       y=\"Max Temp\", \n",
    "                                       title=\"Max Temperature (F) vs. Actual Latitude: Northern Hemisphere\".\n",
    "                                       format(weather_dataframe['City'].iloc[0].split(\",\")[0]))\n",
    "                        \n",
    "\n",
    "n_temp_axes.plot(regr_line_x, regr_line_y, 'r')\n",
    "\n",
    "print(\"The equation of the best-fit linear regression line for this chart is y={:.2f}x+{:.2f}\"\n",
    "      .format(n_temp_slope, n_temp_intercept))\n",
    "print(\"The r-squared correlation coefficient for this line is {:.2f}\".format(n_temp_r_val))\n",
    "n_temp_axes.get_figure().savefig(\"../output_data/Temp_vs_Latitude_N_Hemisphere.png\")\n",
    "plt.xlabel('Latitude')"
   ]
  },
  {
   "cell_type": "code",
   "execution_count": 14,
   "metadata": {},
   "outputs": [
    {
     "name": "stdout",
     "output_type": "stream",
     "text": [
      "This code creates a scatter plot of the Max Temp of cities in the northern hemisphere in relation to their geographical latitude. The plot is used to attempt to visualize if there is a correlation. There seems to be a strong negative correlation here. This would mean that generally as the latitude of your city increases the maximum temperature decreases. \n"
     ]
    }
   ],
   "source": [
    "print('This code creates a scatter plot of the Max Temp of cities in the northern hemisphere in relation to their geographical latitude. The plot is used to attempt to visualize if there is a correlation. There seems to be a strong negative correlation here. This would mean that generally as the latitude of your city increases the maximum temperature decreases. ')"
   ]
  },
  {
   "cell_type": "markdown",
   "metadata": {},
   "source": [
    "####  Southern Hemisphere - Max Temp vs. Latitude Linear Regression"
   ]
  },
  {
   "cell_type": "code",
   "execution_count": 76,
   "metadata": {},
   "outputs": [
    {
     "name": "stdout",
     "output_type": "stream",
     "text": [
      "The equation of the best-fit linear regression line for this chart is y=0.60x+81.10\n",
      "The r-squared correlation coefficient for this line is 0.69\n"
     ]
    },
    {
     "data": {
      "text/plain": [
       "Text(0.5, 15.0, 'Latitude')"
      ]
     },
     "execution_count": 76,
     "metadata": {},
     "output_type": "execute_result"
    },
    {
     "data": {
      "image/png": "[encoded data removed]",
      "text/plain": [
       "<Figure size 432x288 with 1 Axes>"
      ]
     },
     "metadata": {
      "needs_background": "light"
     },
     "output_type": "display_data"
    }
   ],
   "source": [
    "s_temp_lat_axes = makeLinRegression(southern_hemisphere, \"Lat\", \"Max Temp\")\n",
    "s_temp_lat_axes.get_figure().savefig(\"../output_data/Temp_vs_Latitude_S_Hemisphere.png\")\n",
    "plt.title(\"Max Temperature (F) vs. Actual Latitude Southern Hemisphere\")\n",
    "plt.xlabel('Latitude')"
   ]
  },
  {
   "cell_type": "code",
   "execution_count": 15,
   "metadata": {},
   "outputs": [
    {
     "name": "stdout",
     "output_type": "stream",
     "text": [
      "This code creates a scatter plot of the Max Temp of cities in the southern hemisphere in relation to their geographical latitude. The plot is used to attempt to visualize if there is a correlation. This chart shows strong positive correlation in the data. This means as you get closer to the equator or 0 in latitude, your maximum temperature generally increases.\n"
     ]
    }
   ],
   "source": [
    "print('This code creates a scatter plot of the Max Temp of cities in the southern hemisphere in relation to their geographical latitude. The plot is used to attempt to visualize if there is a correlation. This chart shows strong positive correlation in the data. This means as you get closer to the equator or 0 in latitude, your maximum temperature generally increases.')"
   ]
  },
  {
   "cell_type": "markdown",
   "metadata": {},
   "source": [
    "####  Northern Hemisphere - Humidity (%) vs. Latitude Linear Regression"
   ]
  },
  {
   "cell_type": "code",
   "execution_count": 77,
   "metadata": {},
   "outputs": [
    {
     "name": "stdout",
     "output_type": "stream",
     "text": [
      "The equation of the best-fit linear regression line for this chart is y=0.07x+70.43\n",
      "The r-squared correlation coefficient for this line is 0.06\n"
     ]
    },
    {
     "data": {
      "text/plain": [
       "Text(0.5, 15.0, 'Latitude')"
      ]
     },
     "execution_count": 77,
     "metadata": {},
     "output_type": "execute_result"
    },
    {
     "data": {
      "image/png": "[encoded data removed]",
      "text/plain": [
       "<Figure size 432x288 with 1 Axes>"
      ]
     },
     "metadata": {
      "needs_background": "light"
     },
     "output_type": "display_data"
    }
   ],
   "source": [
    "n_humidity_lat_axes = makeLinRegression(northern_hemisphere, \"Lat\", \"Humidity\")\n",
    "n_humidity_lat_axes.get_figure().savefig(\"../output_data/Humidity_vs_Latitude_N_Hemisphere.png\")\n",
    "plt.title('Humidity (%) vs. Actual Latitude Northern Hemisphere')\n",
    "plt.xlabel('Latitude')"
   ]
  },
  {
   "cell_type": "code",
   "execution_count": 60,
   "metadata": {},
   "outputs": [
    {
     "name": "stdout",
     "output_type": "stream",
     "text": [
      "This code creates a scatter plot of the Humidity of cities in the northern hemisphere in relation to their geographical latitude. The plot is used to attempt to visualize if there is a correlation. The flat line here denotes a correlation of 0 so no observable relationship here to speak about.\n"
     ]
    }
   ],
   "source": [
    "print('This code creates a scatter plot of the Humidity of cities in the northern hemisphere in relation to their geographical latitude. The plot is used to attempt to visualize if there is a correlation. The flat line here denotes a correlation of 0 so no observable relationship here to speak about.')"
   ]
  },
  {
   "cell_type": "markdown",
   "metadata": {},
   "source": [
    "####  Southern Hemisphere - Humidity (%) vs. Latitude Linear Regression"
   ]
  },
  {
   "cell_type": "code",
   "execution_count": 78,
   "metadata": {},
   "outputs": [
    {
     "name": "stdout",
     "output_type": "stream",
     "text": [
      "The equation of the best-fit linear regression line for this chart is y=0.38x+75.61\n",
      "The r-squared correlation coefficient for this line is 0.26\n"
     ]
    },
    {
     "data": {
      "text/plain": [
       "Text(0.5, 15.0, 'Latitude')"
      ]
     },
     "execution_count": 78,
     "metadata": {},
     "output_type": "execute_result"
    },
    {
     "data": {
      "image/png": "[encoded data removed]",
      "text/plain": [
       "<Figure size 432x288 with 1 Axes>"
      ]
     },
     "metadata": {
      "needs_background": "light"
     },
     "output_type": "display_data"
    }
   ],
   "source": [
    "s_humidity_lat_axes = makeLinRegression(southern_hemisphere, \"Lat\", \"Humidity\")\n",
    "s_humidity_lat_axes.get_figure().savefig(\"../output_data/Humidity_vs_Latitude_S_Hemisphere.png\")\n",
    "plt.title(\"Humidity (%) vs. Actual Latitude Southern Hemisphere\")\n",
    "plt.xlabel('Latitude')"
   ]
  },
  {
   "cell_type": "code",
   "execution_count": 62,
   "metadata": {},
   "outputs": [
    {
     "name": "stdout",
     "output_type": "stream",
     "text": [
      "This code creates a scatter plot of the Humidity of cities in the southern hemisphere in relation to their geographical latitude. The plot is used to attempt to visualize if there is a correlation. The graph shows a very weak positive correlation. The increase in latitude seems to play a small factor but there is likely more at play that determines your humidity level. The scatter plot clearly shows many outliers.\n"
     ]
    }
   ],
   "source": [
    "print('This code creates a scatter plot of the Humidity of cities in the southern hemisphere in relation to their geographical latitude. The plot is used to attempt to visualize if there is a correlation. The graph shows a very weak positive correlation. The increase in latitude seems to play a small factor but there is likely more at play that determines your humidity level. The scatter plot clearly shows many outliers.')"
   ]
  },
  {
   "cell_type": "markdown",
   "metadata": {},
   "source": [
    "####  Northern Hemisphere - Cloudiness (%) vs. Latitude Linear Regression"
   ]
  },
  {
   "cell_type": "code",
   "execution_count": 79,
   "metadata": {},
   "outputs": [
    {
     "name": "stdout",
     "output_type": "stream",
     "text": [
      "The equation of the best-fit linear regression line for this chart is y=0.17x+48.92\n",
      "The r-squared correlation coefficient for this line is 0.08\n"
     ]
    },
    {
     "data": {
      "text/plain": [
       "Text(0.5, 15.0, 'Latitude')"
      ]
     },
     "execution_count": 79,
     "metadata": {},
     "output_type": "execute_result"
    },
    {
     "data": {
      "image/png": "[encoded data removed]",
      "text/plain": [
       "<Figure size 432x288 with 1 Axes>"
      ]
     },
     "metadata": {
      "needs_background": "light"
     },
     "output_type": "display_data"
    }
   ],
   "source": [
    "n_cloudiness_lat_axes = makeLinRegression(northern_hemisphere, \"Lat\", \"Cloudiness\")\n",
    "n_cloudiness_lat_axes.get_figure().savefig(\"../output_data/Cloudiness_vs_Latitude_N_Hemisphere.png\")\n",
    "plt.title(\"Cloudiness (%) vs. Actual Latitude Northern Hemisphere\")\n",
    "plt.xlabel('Latitude')"
   ]
  },
  {
   "cell_type": "code",
   "execution_count": 18,
   "metadata": {},
   "outputs": [
    {
     "name": "stdout",
     "output_type": "stream",
     "text": [
      "This code creates a scatter plot of the Cloudiness of cities in the northern hemisphere in relation to their geographical latitude. The plot is used to attempt to visualize if there is a correlation. Correlation of 0. No relation whatsoever.\n"
     ]
    }
   ],
   "source": [
    "print('This code creates a scatter plot of the Cloudiness of cities in the northern hemisphere in relation to their geographical latitude. The plot is used to attempt to visualize if there is a correlation. Correlation of 0. No relation whatsoever.')"
   ]
  },
  {
   "cell_type": "markdown",
   "metadata": {},
   "source": [
    "####  Southern Hemisphere - Cloudiness (%) vs. Latitude Linear Regression"
   ]
  },
  {
   "cell_type": "code",
   "execution_count": 80,
   "metadata": {},
   "outputs": [
    {
     "name": "stdout",
     "output_type": "stream",
     "text": [
      "The equation of the best-fit linear regression line for this chart is y=0.24x+52.99\n",
      "The r-squared correlation coefficient for this line is 0.09\n"
     ]
    },
    {
     "data": {
      "text/plain": [
       "Text(0.5, 15.0, 'Latitude')"
      ]
     },
     "execution_count": 80,
     "metadata": {},
     "output_type": "execute_result"
    },
    {
     "data": {
      "image/png": "[encoded data removed]",
      "text/plain": [
       "<Figure size 432x288 with 1 Axes>"
      ]
     },
     "metadata": {
      "needs_background": "light"
     },
     "output_type": "display_data"
    }
   ],
   "source": [
    "s_cloudiness_lat_axes = makeLinRegression(southern_hemisphere, \"Lat\", \"Cloudiness\")\n",
    "s_cloudiness_lat_axes.get_figure().savefig(\"../output_data/Cloudiness_vs_Latitude_S_Hemisphere.png\")\n",
    "plt.title(\"Cloudiness (%) vs. Actual Latitude Southern Hemisphere\")\n",
    "plt.xlabel('Latitude')"
   ]
  },
  {
   "cell_type": "code",
   "execution_count": 20,
   "metadata": {},
   "outputs": [
    {
     "name": "stdout",
     "output_type": "stream",
     "text": [
      "This code creates a scatter plot of the Cloudiness of cities in the southern hemisphere in relation to their geographical latitude. The plot is used to attempt to visualize if there is a correlation. The graph shows a weak positive correlation. The increase in latitude seems to play a small factor but there is likely more at play that determines your cloudiness level. The scatter plot clearly shows many outliers.\n"
     ]
    }
   ],
   "source": [
    "print('This code creates a scatter plot of the Cloudiness of cities in the southern hemisphere in relation to their geographical latitude. The plot is used to attempt to visualize if there is a correlation. The graph shows a weak positive correlation. The increase in latitude seems to play a small factor but there is likely more at play that determines your cloudiness level. The scatter plot clearly shows many outliers.')"
   ]
  },
  {
   "cell_type": "markdown",
   "metadata": {},
   "source": [
    "####  Northern Hemisphere - Wind Speed (mph) vs. Latitude Linear Regression"
   ]
  },
  {
   "cell_type": "code",
   "execution_count": 81,
   "metadata": {},
   "outputs": [
    {
     "name": "stdout",
     "output_type": "stream",
     "text": [
      "The equation of the best-fit linear regression line for this chart is y=0.04x+5.43\n",
      "The r-squared correlation coefficient for this line is 0.17\n"
     ]
    },
    {
     "data": {
      "text/plain": [
       "Text(0.5, 15.0, 'Latitude')"
      ]
     },
     "execution_count": 81,
     "metadata": {},
     "output_type": "execute_result"
    },
    {
     "data": {
      "image/png": "[encoded data removed]",
      "text/plain": [
       "<Figure size 432x288 with 1 Axes>"
      ]
     },
     "metadata": {
      "needs_background": "light"
     },
     "output_type": "display_data"
    }
   ],
   "source": [
    "n_wind_lat_axes = makeLinRegression(northern_hemisphere, \"Lat\", \"Wind Speed\")\n",
    "n_wind_lat_axes.get_figure().savefig(\"../output_data/Wind_Speed_vs_Latitude_N_Hemisphere.png\")\n",
    "plt.title(\"Wind Speed (mph) vs. Actual Latitude Northern Hemisphere\")\n",
    "plt.xlabel('Latitude')"
   ]
  },
  {
   "cell_type": "code",
   "execution_count": 22,
   "metadata": {},
   "outputs": [
    {
     "name": "stdout",
     "output_type": "stream",
     "text": [
      "This code creates a scatter plot of the wind speed in mph of cities in the northern hemisphere in relation to their geographical latitude. The plot is used to attempt to visualize if there is a correlation. The plot shows a very weak positive correlation. The plot has many outliers so relationship is very minimal.\n"
     ]
    }
   ],
   "source": [
    "print('This code creates a scatter plot of the wind speed in mph of cities in the northern hemisphere in relation to their geographical latitude. The plot is used to attempt to visualize if there is a correlation. The plot shows a very weak positive correlation. The plot has many outliers so relationship is very minimal.')"
   ]
  },
  {
   "cell_type": "markdown",
   "metadata": {},
   "source": [
    "####  Southern Hemisphere - Wind Speed (mph) vs. Latitude Linear Regression"
   ]
  },
  {
   "cell_type": "code",
   "execution_count": 82,
   "metadata": {},
   "outputs": [
    {
     "name": "stdout",
     "output_type": "stream",
     "text": [
      "The equation of the best-fit linear regression line for this chart is y=-0.01x+7.14\n",
      "The r-squared correlation coefficient for this line is -0.04\n"
     ]
    },
    {
     "data": {
      "text/plain": [
       "Text(0.5, 15.0, 'Latitude')"
      ]
     },
     "execution_count": 82,
     "metadata": {},
     "output_type": "execute_result"
    },
    {
     "data": {
      "image/png": "[encoded data removed]",
      "text/plain": [
       "<Figure size 432x288 with 1 Axes>"
      ]
     },
     "metadata": {
      "needs_background": "light"
     },
     "output_type": "display_data"
    }
   ],
   "source": [
    "s_wind_lat_axes = makeLinRegression(southern_hemisphere, \"Lat\", \"Wind Speed\")\n",
    "s_wind_lat_axes.get_figure().savefig(\"../output_data/Wind_Speed_vs_Latitude_S_Hemisphere.png\")\n",
    "plt.title(\"Wind Speed (mph) vs. Actual Latitude Southern Hemisphere\")\n",
    "plt.xlabel('Latitude')"
   ]
  },
  {
   "cell_type": "code",
   "execution_count": 23,
   "metadata": {},
   "outputs": [
    {
     "name": "stdout",
     "output_type": "stream",
     "text": [
      "This code creates a scatter plot of the wind speed in mph of cities in the southern hemisphere in relation to their geographical latitude. The plot is used to attempt to visualize if there is a correlation. The relationship here is almost 0. No correlation whatsoever.\n"
     ]
    }
   ],
   "source": [
    "print('This code creates a scatter plot of the wind speed in mph of cities in the southern hemisphere in relation to their geographical latitude. The plot is used to attempt to visualize if there is a correlation. The relationship here is almost 0. No correlation whatsoever.')"
   ]
  },
  {
   "cell_type": "code",
   "execution_count": null,
   "metadata": {},
   "outputs": [],
   "source": [
    "### Code courtesy of 'mileslucey' from github.com, 'gendo90' from github.com, 'theodoremoreland' from github.com ###"
   ]
  },
  {
   "cell_type": "code",
   "execution_count": null,
   "metadata": {},
   "outputs": [],
   "source": [
    "########## Written Analysis ##############"
   ]
  },
  {
   "cell_type": "code",
   "execution_count": 26,
   "metadata": {},
   "outputs": [
    {
     "name": "stdout",
     "output_type": "stream",
     "text": [
      "The data shows a very strong trend that if your city is closer to the equator (latitude 0) that your temperature will generally increase. Equally as you get further away from the equator your temperature will generally decrease. The further plots seperating the norther and southern hemisphere validate thhe accuracy of the data.\n"
     ]
    }
   ],
   "source": [
    "### Trend 1 ###\n",
    "print('The data shows a very strong trend that if your city is closer to the equator (latitude 0) that your temperature will generally increase. Equally as you get further away from the equator your temperature will generally decrease. The further plots seperating the norther and southern hemisphere validate thhe accuracy of the data.')"
   ]
  },
  {
   "cell_type": "code",
   "execution_count": 83,
   "metadata": {},
   "outputs": [
    {
     "name": "stdout",
     "output_type": "stream",
     "text": [
      "In the Humidity comparison, the division of northern and southern hemisphere gave somewhat different results of correlation. In humidity the north is 0.06 and the south has a 0.26 positive correlation. Is there a weak correlation there because the south has a smaller smaple size? Does having a larger sample normalize the data which indicates that there shouldnt be as strong of a correlation in the southern hemisphere? When looking at the non globally divided data near the top, the original scatter plot of all cities humidity vs latitude shows that the latitude determines very little in the amount of humidity a city experiences. You can see the majority of the cities experience varying levels of humidty above 70% regardless of where they lie in latitude . In my opinion i think it is safe to say there is no relationship, trend or correlation in these categories even though the numbers in some visualisations may indicate otherwise.\n"
     ]
    }
   ],
   "source": [
    "### Trend 2 ###\n",
    "print(\"In the Humidity comparison, the division of northern and southern hemisphere gave somewhat different results of correlation. In humidity the north is 0.06 and the south has a 0.26 positive correlation. Is there a weak correlation there because the south has a smaller smaple size? Does having a larger sample normalize the data which indicates that there shouldnt be as strong of a correlation in the southern hemisphere? When looking at the non globally divided data near the top, the original scatter plot of all cities humidity vs latitude shows that the latitude determines very little in the amount of humidity a city experiences. You can see the majority of the cities experience varying levels of humidty above 70% regardless of where they lie in latitude . In my opinion i think it is safe to say there is no relationship, trend or correlation in these categories even though the numbers in some visualisations may indicate otherwise.\")"
   ]
  },
  {
   "cell_type": "code",
   "execution_count": 84,
   "metadata": {},
   "outputs": [
    {
     "name": "stdout",
     "output_type": "stream",
     "text": [
      "When comparing wind speeds and cloudiness to the latitude position of cities it's evident that there is little corrleation. The scatter plots show that the majority of cities lie below a wind speed of 15 mph and that cloudiness is all over the scatter plot. The outliers that have very high speeds as well are scatter across the latitudes so you really can't draw any correlations between the two variables. The scatter plot for cloudiness doesnt allow me to draw any conclisions as its so random.\n"
     ]
    }
   ],
   "source": [
    "### Trend 3 ###\n",
    "print(\"When comparing wind speeds and cloudiness to the latitude position of cities it's evident that there is little corrleation. The scatter plots show that the majority of cities lie below a wind speed of 15 mph and that cloudiness is all over the scatter plot. The outliers that have very high speeds as well are scatter across the latitudes so you really can't draw any correlations between the two variables. The scatter plot for cloudiness doesnt allow me to draw any conclisions as its so random.\")"
   ]
  },
  {
   "cell_type": "code",
   "execution_count": null,
   "metadata": {},
   "outputs": [],
   "source": []
  }
 ],
 "metadata": {
  "anaconda-cloud": {},
  "kernel_info": {
   "name": "python3"
  },
  "kernelspec": {
   "display_name": "Python 3",
   "language": "python",
   "name": "python3"
  },
  "language_info": {
   "codemirror_mode": {
    "name": "ipython",
    "version": 3
   },
   "file_extension": ".py",
   "mimetype": "text/x-python",
   "name": "python",
   "nbconvert_exporter": "python",
   "pygments_lexer": "ipython3",
   "version": "3.6.13"
  },
  "latex_envs": {
   "LaTeX_envs_menu_present": true,
   "autoclose": false,
   "autocomplete": true,
   "bibliofile": "biblio.bib",
   "cite_by": "apalike",
   "current_citInitial": 1,
   "eqLabelWithNumbers": true,
   "eqNumInitial": 1,
   "hotkeys": {
    "equation": "Ctrl-E",
    "itemize": "Ctrl-I"
   },
   "labels_anchors": false,
   "latex_user_defs": false,
   "report_style_numbering": false,
   "user_envs_cfg": false
  },
  "nteract": {
   "version": "0.12.3"
  }
 },
 "nbformat": 4,
 "nbformat_minor": 2
}
